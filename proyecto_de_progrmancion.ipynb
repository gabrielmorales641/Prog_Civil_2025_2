{
  "nbformat": 4,
  "nbformat_minor": 0,
  "metadata": {
    "colab": {
      "provenance": [],
      "authorship_tag": "ABX9TyOkT+Prfwfi+8LricYabUwm",
      "include_colab_link": true
    },
    "kernelspec": {
      "name": "python3",
      "display_name": "Python 3"
    },
    "language_info": {
      "name": "python"
    }
  },
  "cells": [
    {
      "cell_type": "markdown",
      "metadata": {
        "id": "view-in-github",
        "colab_type": "text"
      },
      "source": [
        "<a href=\"https://colab.research.google.com/github/gabrielmorales641/Prog_Civil_2025_2/blob/main/proyecto_de_progrmancion.ipynb\" target=\"_parent\"><img src=\"https://colab.research.google.com/assets/colab-badge.svg\" alt=\"Open In Colab\"/></a>"
      ]
    },
    {
      "cell_type": "code",
      "execution_count": null,
      "metadata": {
        "id": "KlgXH4d5Bajz"
      },
      "outputs": [],
      "source": [
        "#"
      ]
    },
    {
      "cell_type": "markdown",
      "source": [
        "# CUADERNO DE TRABAJO COLABORATIVO\n",
        " # Asignatura: programacion de computadores"
      ],
      "metadata": {
        "id": "n98wxiKgB54Y"
      }
    },
    {
      "cell_type": "code",
      "source": [],
      "metadata": {
        "id": "M3f-d9IbCHIA"
      },
      "execution_count": null,
      "outputs": []
    },
    {
      "cell_type": "markdown",
      "source": [
        "# ==========================================\n",
        " # SECCIÓN 1: Estudiante 1\n",
        " # ==========================================\n",
        " # TODO: Desarrollar aquí la Situación 1"
      ],
      "metadata": {
        "id": "Nw80Z7k-CH89"
      }
    },
    {
      "cell_type": "code",
      "source": [],
      "metadata": {
        "id": "VJOaIt53CNN4"
      },
      "execution_count": null,
      "outputs": []
    },
    {
      "cell_type": "markdown",
      "source": [
        " # ==========================================\n",
        " # SECCIÓN 2: Estudiante 2\n",
        " # ==========================================\n",
        " # TODO: Desarrollar aquí la Situación 2"
      ],
      "metadata": {
        "id": "NPnj6-IKCN_6"
      }
    },
    {
      "cell_type": "code",
      "source": [],
      "metadata": {
        "id": "_z0GLKlkCSqO"
      },
      "execution_count": null,
      "outputs": []
    },
    {
      "cell_type": "markdown",
      "source": [
        " # ==========================================\n",
        " # SECCIÓN 3: Estudiante 3\n",
        " # ==========================================\n",
        " # TODO: Desarrollar aquí la Situación 3"
      ],
      "metadata": {
        "id": "kbHdWOI9CTi2"
      }
    },
    {
      "cell_type": "markdown",
      "source": [
        " # ==========================================\n",
        " # SECCIÓN 4: Estudiante 4\n",
        " # ==========================================\n",
        " # TODO: Desarrollar aquí la Situación 4"
      ],
      "metadata": {
        "id": "xOPxKyRbCY07"
      }
    },
    {
      "cell_type": "markdown",
      "source": [
        " # ==========================================\n",
        " # SECCIÓN 5: Estudiante 5\n",
        " # ==========================================\n",
        " # TODO: Desarrollar aquí la Situación 5"
      ],
      "metadata": {
        "id": "55NV90M7CfZr"
      }
    },
    {
      "cell_type": "code",
      "source": [],
      "metadata": {
        "id": "v9HZoz5jCXD2"
      },
      "execution_count": null,
      "outputs": []
    }
  ]
}