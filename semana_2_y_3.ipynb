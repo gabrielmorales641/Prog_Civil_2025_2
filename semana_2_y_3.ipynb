{
  "nbformat": 4,
  "nbformat_minor": 0,
  "metadata": {
    "colab": {
      "provenance": [],
      "authorship_tag": "ABX9TyNHkWpdMg81PEG2EmDC+JFX",
      "include_colab_link": true
    },
    "kernelspec": {
      "name": "python3",
      "display_name": "Python 3"
    },
    "language_info": {
      "name": "python"
    }
  },
  "cells": [
    {
      "cell_type": "markdown",
      "metadata": {
        "id": "view-in-github",
        "colab_type": "text"
      },
      "source": [
        "<a href=\"https://colab.research.google.com/github/gabrielmorales641/Prog_Civil_2025_2/blob/main/semana_2_y_3.ipynb\" target=\"_parent\"><img src=\"https://colab.research.google.com/assets/colab-badge.svg\" alt=\"Open In Colab\"/></a>"
      ]
    },
    {
      "cell_type": "markdown",
      "source": [
        "Situación 1: Clasificador de pH del Suelo El pH del suelo es un factor crítico para la absorción de\n",
        " nutrientes por parte de las plantas. Desarrollarás un programa que recibe un valor de pH e informa al\n",
        " agricultor si el suelo es ácido, neutro o alcalino, ofreciendo una recomendación general.\n"
      ],
      "metadata": {
        "id": "eLhC2CtcB4LR"
      }
    },
    {
      "cell_type": "code",
      "execution_count": null,
      "metadata": {
        "colab": {
          "base_uri": "https://localhost:8080/"
        },
        "id": "9seeJqEVBqj3",
        "outputId": "166081ee-d456-4edd-d78d-57a227d8b672"
      },
      "outputs": [
        {
          "output_type": "stream",
          "name": "stdout",
          "text": [
            "Este programa clasifica el pH del suelo.\n",
            "Por favor ingrese el valor de pH medido: 10\n",
            "El suelo es alcalino.\n",
            "Recomendamos el uso de fertilizantes.\n"
          ]
        }
      ],
      "source": [
        "# Explicar al usuario que el programa clasifica el pH del suelo.\n",
        "print(\"Este programa clasifica el pH del suelo.\")\n",
        "\n",
        "# Pedir al usuario que ingrese el valor de pH medido (puede ser decimal).\n",
        "# Guardar el valor en una variable.\n",
        "pH = float(input(\"Por favor ingrese el valor de pH medido: \"))\n",
        "\n",
        "# Utilizar una estructura 'if' para la primera condición: si el pH es menor que 7.0.\n",
        "# Dentro del 'if', mostrar un mensaje indicando que el suelo es \"Ácido\" y recomendar el uso de cal agrícola.\n",
        "if pH < 7.0:\n",
        "    print(\"El suelo es ácido.\")\n",
        "    print(\"Recomendamos el uso de cal agricola.\")\n",
        "# Utilizar una estructura 'elif' para la segunda condición: si el pH es mayor que 7.\n",
        "elif pH > 7.0:\n",
        "# Dentro del 'elif', mostrar un mensaje indicando que el suelo es \"Alcalino\" y recomendar el uso de fertilizantes.\n",
        "    print(\"El suelo es alcalino.\")\n",
        "    print(\"Recomendamos el uso de fertilizantes.\")\n",
        "else:\n",
        "   # Dentro del 'else', mostrar un mensaje indicando que el suelo es \"Neutro\" y que es ideal para la mayoría de los cultivos.\n",
        "    print(\"El suelo es neutro.\")\n",
        "    print(\"Es ideal para la mayoría de los cultivos.\")\n"
      ]
    }
  ]
}