{
  "nbformat": 4,
  "nbformat_minor": 0,
  "metadata": {
    "colab": {
      "provenance": [],
      "authorship_tag": "ABX9TyNosrDk4p8qANr0TqX4ycCN",
      "include_colab_link": true
    },
    "kernelspec": {
      "name": "python3",
      "display_name": "Python 3"
    },
    "language_info": {
      "name": "python"
    }
  },
  "cells": [
    {
      "cell_type": "markdown",
      "metadata": {
        "id": "view-in-github",
        "colab_type": "text"
      },
      "source": [
        "<a href=\"https://colab.research.google.com/github/gabrielmorales641/Prog_Civil_2025_2/blob/main/semana_2_y_3.ipynb\" target=\"_parent\"><img src=\"https://colab.research.google.com/assets/colab-badge.svg\" alt=\"Open In Colab\"/></a>"
      ]
    },
    {
      "cell_type": "markdown",
      "source": [
        "Situación 1: Clasificador de pH del Suelo El pH del suelo es un factor crítico para la absorción de\n",
        " nutrientes por parte de las plantas. Desarrollarás un programa que recibe un valor de pH e informa al\n",
        " agricultor si el suelo es ácido, neutro o alcalino, ofreciendo una recomendación general.\n"
      ],
      "metadata": {
        "id": "eLhC2CtcB4LR"
      }
    },
    {
      "cell_type": "code",
      "execution_count": null,
      "metadata": {
        "colab": {
          "base_uri": "https://localhost:8080/"
        },
        "id": "9seeJqEVBqj3",
        "outputId": "166081ee-d456-4edd-d78d-57a227d8b672"
      },
      "outputs": [
        {
          "output_type": "stream",
          "name": "stdout",
          "text": [
            "Este programa clasifica el pH del suelo.\n",
            "Por favor ingrese el valor de pH medido: 10\n",
            "El suelo es alcalino.\n",
            "Recomendamos el uso de fertilizantes.\n"
          ]
        }
      ],
      "source": [
        "# Explicar al usuario que el programa clasifica el pH del suelo.\n",
        "print(\"Este programa clasifica el pH del suelo.\")\n",
        "\n",
        "# Pedir al usuario que ingrese el valor de pH medido (puede ser decimal).\n",
        "# Guardar el valor en una variable.\n",
        "pH = float(input(\"Por favor ingrese el valor de pH medido: \"))\n",
        "\n",
        "# Utilizar una estructura 'if' para la primera condición: si el pH es menor que 7.0.\n",
        "# Dentro del 'if', mostrar un mensaje indicando que el suelo es \"Ácido\" y recomendar el uso de cal agrícola.\n",
        "if pH < 7.0:\n",
        "    print(\"El suelo es ácido.\")\n",
        "    print(\"Recomendamos el uso de cal agricola.\")\n",
        "# Utilizar una estructura 'elif' para la segunda condición: si el pH es mayor que 7.\n",
        "elif pH > 7.0:\n",
        "# Dentro del 'elif', mostrar un mensaje indicando que el suelo es \"Alcalino\" y recomendar el uso de fertilizantes.\n",
        "    print(\"El suelo es alcalino.\")\n",
        "    print(\"Recomendamos el uso de fertilizantes.\")\n",
        "else:\n",
        "   # Dentro del 'else', mostrar un mensaje indicando que el suelo es \"Neutro\" y que es ideal para la mayoría de los cultivos.\n",
        "    print(\"El suelo es neutro.\")\n",
        "    print(\"Es ideal para la mayoría de los cultivos.\")\n"
      ]
    },
    {
      "cell_type": "markdown",
      "source": [
        "#Situación 1: Verificación de Resistencia de Concreto\n",
        "\n",
        "Un laboratorio de materiales ensaya probetas de concreto a los 28 días. El concreto es de tipo “G-25”, lo que significa que debe tener una resistencia mínima de 25 MPa.\n",
        "\n",
        " El programa debe indicar si la probeta cumple, está por debajo o supera excepcionalmente la norma (más de 30 MPa).\n",
        "\n",
        " Paso a Paso del Código (Guía para el Notebook)\n",
        " 1. # Explicar que el programa verifica la resistencia de una probeta de concreto.\n",
        " 2. # Pedir al usuario que ingrese la resistencia obtenida en el ensayo (en MPa).\n",
        " 3. # Almacenar el resultado en una variable.\n",
        " 4. # Usar una condición 'if' para ver si la resistencia es menor a 25.\n",
        " 5. # Si es así, imprimir \"NO CUMPLE con la norma G-25\".\n",
        " 6. # Usar una condición 'elif' para ver si la resistencia es mayor o igual a 25 Y a\n",
        " la vez menor o igual a 30.\n",
        " 7. # Si es así, imprimir \"CUMPLE con la norma G-25\".\n",
        " 8. # Usar 'else' para el caso restante (mayor a 30).\n",
        " 9. # En el 'else', imprimir \"CUMPLE y supera excepcionalmente la norma G-25\".\n",
        "\n"
      ],
      "metadata": {
        "id": "k6Wp8ZPOKMdt"
      }
    },
    {
      "cell_type": "code",
      "source": [
        "\n"
      ],
      "metadata": {
        "id": "pfvfZL6sKzGH"
      },
      "execution_count": null,
      "outputs": []
    },
    {
      "cell_type": "code",
      "source": [],
      "metadata": {
        "id": "6Qc7NHylNPVQ"
      },
      "execution_count": null,
      "outputs": []
    },
    {
      "cell_type": "code",
      "metadata": {
        "colab": {
          "base_uri": "https://localhost:8080/"
        },
        "id": "83421557",
        "outputId": "71085a64-9ff0-45cd-9f87-6723f7b91ef7"
      },
      "source": [
        "# Explicar que el programa verifica la resistencia de una probeta de concreto.\n",
        "print(\"Este programa verifica la resistencia de una probeta de concreto.\")\n",
        "\n",
        "# Pedir al usuario que ingrese la resistencia obtenida en el ensayo (en MPa).\n",
        "# Almacenar el resultado en una variable.\n",
        "resistencia = float(input(\"Por favor ingrese la resistencia obtenida en el ensayo (en MPa): \"))\n",
        "\n",
        "# Usar una condición 'if' para ver si la resistencia es menor a 25.\n",
        "if resistencia < 25:\n",
        "    # Si es así, imprimir \"NO CUMPLE con la norma G-25\".\n",
        "    print(\"NO CUMPLE con la norma G-25.\")\n",
        "# Usar una condición 'elif' para ver si la resistencia es mayor o igual a 25 Y a\n",
        "# la vez menor o igual a 30.\n",
        "elif 25 <= resistencia <= 30:\n",
        "    # Si es así, imprimir \"CUMPLE con la norma G-25\".\n",
        "    print(\"CUMPLE con la norma G-25.\")\n",
        "# Usar 'else' para el caso restante (mayor a 30).\n",
        "else:\n",
        "    # En el 'else', imprimir \"CUMPLE y supera excepcionalmente la norma G-25\".\n",
        "    print(\"CUMPLE y supera excepcionalmente la norma G-25.\")"
      ],
      "execution_count": 4,
      "outputs": [
        {
          "output_type": "stream",
          "name": "stdout",
          "text": [
            "Este programa verifica la resistencia de una probeta de concreto.\n",
            "Por favor ingrese la resistencia obtenida en el ensayo (en MPa): 80\n",
            "CUMPLE y supera excepcionalmente la norma G-25.\n"
          ]
        }
      ]
    },
    {
      "cell_type": "markdown",
      "source": [
        "# Situación 2: Cálculo de Carga Acumulada en una Columna\n",
        "\n",
        "Una columna soporta las cargas de varios pisos de un edificio. Debes crear un programa que pregunte cuántos pisos hay y luego pida la carga de cada piso para finalmente calcular la carga total que llega a la cimentación.\n",
        " • Paso a Paso del Código (Guía para el Notebook)\n",
        "\n",
        " 1. # Inicializar una variable para la carga total en 0.\n",
        " 2. # Preguntar al usuario cuántos pisos tiene el edificio.\n",
        " 3. # Guardar el número de pisos en una variable.\n",
        " 4. # Crear un bucle 'for' que se ejecute tantas veces como el número de pisos.\n",
        " 5. # Dentro del bucle, pedir al usuario la carga del piso actual en toneladas (ej.,\n",
        " \"Ingrese la carga del piso 1:\").\n",
        " 6. # Añadir esta carga a la variable de carga total.\n",
        " 7. # Una vez finalizado el bucle, mostrar la carga total acumulada que la columna\n",
        " transmite a la cimentación."
      ],
      "metadata": {
        "id": "w2u-0zkoOcmG"
      }
    },
    {
      "cell_type": "code",
      "source": [],
      "metadata": {
        "id": "Bn8xBaijOcQB"
      },
      "execution_count": null,
      "outputs": []
    },
    {
      "cell_type": "code",
      "metadata": {
        "colab": {
          "base_uri": "https://localhost:8080/"
        },
        "id": "4126eb8b",
        "outputId": "6db2b490-f15d-446e-ea92-41350ea1adf8"
      },
      "source": [
        "# Inicializar una variable para la carga total en 0.\n",
        "carga_total = 0\n",
        "\n",
        "# Preguntar al usuario cuántos pisos tiene el edificio.\n",
        "num_pisos = int(input(\"¿Cuántos pisos tiene el edificio?: \"))\n",
        "\n",
        "# Crear un bucle 'for' que se ejecute tantas veces como el número de pisos.\n",
        "for i in range(1, num_pisos + 1):\n",
        "    # Dentro del bucle, pedir al usuario la carga del piso actual en toneladas.\n",
        "    carga_piso = float(input(f\"Ingrese la carga del piso {i} (en toneladas): \"))\n",
        "    # Añadir esta carga a la variable de carga total.\n",
        "    carga_total += carga_piso\n",
        "\n",
        "# Una vez finalizado el bucle, mostrar la carga total acumulada.\n",
        "print(f\"La carga total acumulada en la columna es: {carga_total} toneladas\")"
      ],
      "execution_count": 5,
      "outputs": [
        {
          "output_type": "stream",
          "name": "stdout",
          "text": [
            "¿Cuántos pisos tiene el edificio?: 3\n",
            "Ingrese la carga del piso 1 (en toneladas): 123\n",
            "Ingrese la carga del piso 2 (en toneladas): 3423\n",
            "Ingrese la carga del piso 3 (en toneladas): 456\n",
            "La carga total acumulada en la columna es: 4002.0 toneladas\n"
          ]
        }
      ]
    }
  ]
}